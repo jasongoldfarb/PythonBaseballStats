{
 "cells": [
  {
   "cell_type": "markdown",
   "id": "6b7e2c46-134d-4a60-87c4-829b0010c4cb",
   "metadata": {},
   "source": [
    "## Session 2: Descriptive Statistics - Mean, Median, Mode\n",
    "\n",
    "**Objective:** Introduce basic statistical concepts and use Python to calculate the mean, median, and mode for baseball data.\n",
    "\n",
    "### 1. Concepts Covered\n",
    "- Descriptive statistics: mean, median, mode.\n",
    "- Using Python to calculate these statistics for baseball data (e.g., player batting averages).\n",
    "- Formula references:\n",
    "   - Mean: $\\bar{x} = \\frac{1}{n}\\sum_{i=1}^{n} x_i$\n",
    "   - Median: The median of a dataset $X = \\{x_1, x_2, ..., x_n\\}$:\n",
    "      - If $n$ is odd, the median is $x_{\\frac{n+1}{2}}$.\n",
    "      - If $n$ is even, the median is $\\frac{x_{\\frac{n}{2}} + x_{\\frac{n}{2} + 1}}{2}$.\n",
    "   - Mode: The most frequent value"
   ]
  },
  {
   "cell_type": "markdown",
   "id": "325cd8fb-93e2-4554-8200-27162b33985e",
   "metadata": {},
   "source": [
    "### 2. Python Code Walkthrough\n",
    "\n",
    "Install and import packages:"
   ]
  },
  {
   "cell_type": "code",
   "execution_count": 1,
   "id": "1d321efa-c177-4b2b-a484-294f2cde3cb2",
   "metadata": {
    "tags": []
   },
   "outputs": [],
   "source": [
    "from pybaseball import batting_stats, playerid_lookup, statcast_pitcher\n",
    "import pandas as pd\n",
    "pd.set_option('display.max_columns', None)"
   ]
  },
  {
   "cell_type": "markdown",
   "id": "9900e62d-ebe1-45f7-8411-d14b5f665ddc",
   "metadata": {},
   "source": [
    "#### Descriptive Statistics: Batting Average Analysis"
   ]
  },
  {
   "cell_type": "code",
   "execution_count": 2,
   "id": "75ea4bec-f27d-442b-9d47-4ec48dc59a9d",
   "metadata": {
    "tags": []
   },
   "outputs": [],
   "source": [
    "data = batting_stats(2023)"
   ]
  },
  {
   "cell_type": "markdown",
   "id": "1d9a2301-ba6e-4dec-8f99-ffc259e5e77a",
   "metadata": {},
   "source": [
    "##### How much better were the top five hitters in 2023 compared to the three measures of central tendency for that year? "
   ]
  },
  {
   "cell_type": "code",
   "execution_count": 3,
   "id": "597ad6f6-5170-46a7-8145-92176f322119",
   "metadata": {
    "tags": []
   },
   "outputs": [
    {
     "name": "stdout",
     "output_type": "stream",
     "text": [
      "Mean Batting Average:   0.262\n",
      "Median Batting Average: 0.262\n",
      "Mode Batting Average:   0.258\n"
     ]
    }
   ],
   "source": [
    "mean_batting_avg = data['AVG'].mean()\n",
    "median_batting_avg = data['AVG'].median()\n",
    "mode_batting_avg = data['AVG'].mode()[0]\n",
    "\n",
    "print(f\"Mean Batting Average:   {mean_batting_avg:.3f}\")\n",
    "print(f\"Median Batting Average: {median_batting_avg:.3f}\")\n",
    "print(f\"Mode Batting Average:   {mode_batting_avg:.3f}\")"
   ]
  },
  {
   "cell_type": "code",
   "execution_count": 4,
   "id": "c031d0ed-8b9a-4226-8b67-e8ce71a0110f",
   "metadata": {
    "tags": []
   },
   "outputs": [
    {
     "data": {
      "text/html": [
       "<div>\n",
       "<style scoped>\n",
       "    .dataframe tbody tr th:only-of-type {\n",
       "        vertical-align: middle;\n",
       "    }\n",
       "\n",
       "    .dataframe tbody tr th {\n",
       "        vertical-align: top;\n",
       "    }\n",
       "\n",
       "    .dataframe thead th {\n",
       "        text-align: right;\n",
       "    }\n",
       "</style>\n",
       "<table border=\"1\" class=\"dataframe\">\n",
       "  <thead>\n",
       "    <tr style=\"text-align: right;\">\n",
       "      <th></th>\n",
       "      <th>IDfg</th>\n",
       "      <th>Name</th>\n",
       "      <th>Team</th>\n",
       "      <th>AVG</th>\n",
       "      <th>mean_diff</th>\n",
       "      <th>median_diff</th>\n",
       "      <th>mode_diff</th>\n",
       "    </tr>\n",
       "  </thead>\n",
       "  <tbody>\n",
       "    <tr>\n",
       "      <th>13</th>\n",
       "      <td>18568</td>\n",
       "      <td>Luis Arraez</td>\n",
       "      <td>MIA</td>\n",
       "      <td>0.354</td>\n",
       "      <td>0.092</td>\n",
       "      <td>0.092</td>\n",
       "      <td>0.096</td>\n",
       "    </tr>\n",
       "    <tr>\n",
       "      <th>1</th>\n",
       "      <td>18401</td>\n",
       "      <td>Ronald Acuna Jr.</td>\n",
       "      <td>ATL</td>\n",
       "      <td>0.337</td>\n",
       "      <td>0.075</td>\n",
       "      <td>0.075</td>\n",
       "      <td>0.079</td>\n",
       "    </tr>\n",
       "    <tr>\n",
       "      <th>5</th>\n",
       "      <td>5361</td>\n",
       "      <td>Freddie Freeman</td>\n",
       "      <td>LAD</td>\n",
       "      <td>0.331</td>\n",
       "      <td>0.069</td>\n",
       "      <td>0.069</td>\n",
       "      <td>0.073</td>\n",
       "    </tr>\n",
       "    <tr>\n",
       "      <th>6</th>\n",
       "      <td>16578</td>\n",
       "      <td>Yandy Diaz</td>\n",
       "      <td>TBR</td>\n",
       "      <td>0.330</td>\n",
       "      <td>0.068</td>\n",
       "      <td>0.068</td>\n",
       "      <td>0.072</td>\n",
       "    </tr>\n",
       "    <tr>\n",
       "      <th>2</th>\n",
       "      <td>13624</td>\n",
       "      <td>Corey Seager</td>\n",
       "      <td>TEX</td>\n",
       "      <td>0.327</td>\n",
       "      <td>0.065</td>\n",
       "      <td>0.065</td>\n",
       "      <td>0.069</td>\n",
       "    </tr>\n",
       "  </tbody>\n",
       "</table>\n",
       "</div>"
      ],
      "text/plain": [
       "     IDfg              Name Team    AVG  mean_diff  median_diff  mode_diff\n",
       "13  18568       Luis Arraez  MIA  0.354      0.092        0.092      0.096\n",
       "1   18401  Ronald Acuna Jr.  ATL  0.337      0.075        0.075      0.079\n",
       "5    5361   Freddie Freeman  LAD  0.331      0.069        0.069      0.073\n",
       "6   16578        Yandy Diaz  TBR  0.330      0.068        0.068      0.072\n",
       "2   13624      Corey Seager  TEX  0.327      0.065        0.065      0.069"
      ]
     },
     "metadata": {},
     "output_type": "display_data"
    }
   ],
   "source": [
    "top_5_avg_df = data.sort_values(\n",
    "    by='AVG', ascending=False)[:5][\n",
    "    ['IDfg', 'Name', 'Team', 'AVG']]\n",
    "\n",
    "top_5_avg_df['mean_diff'] = round(top_5_avg_df['AVG'] - mean_batting_avg, 3)\n",
    "top_5_avg_df['median_diff'] = round(top_5_avg_df['AVG'] - median_batting_avg, 3)\n",
    "top_5_avg_df['mode_diff'] = round(top_5_avg_df['AVG'] - mode_batting_avg, 3)\n",
    "\n",
    "display(top_5_avg_df)"
   ]
  },
  {
   "cell_type": "markdown",
   "id": "d0388489-3e68-4997-a4be-57c21d894a35",
   "metadata": {},
   "source": [
    "#### Descriptive Statistics: Average 4-Seam Fastball Speed Analysis for Clayton Kershaw on `2017-06-02`"
   ]
  },
  {
   "cell_type": "code",
   "execution_count": 5,
   "id": "fe24dc13-94ff-4b43-bfba-23cab4952def",
   "metadata": {
    "tags": []
   },
   "outputs": [
    {
     "name": "stdout",
     "output_type": "stream",
     "text": [
      "Gathering player lookup table. This may take a moment.\n",
      "Gathering Player Data\n"
     ]
    }
   ],
   "source": [
    "# Find Clayton Kershaw's player id\n",
    "playerid_lookup('kershaw', 'clayton', fuzzy=True) \n",
    "# His MLBAM ID is 477132.\n",
    "\n",
    "# Get Kershaw's stats for a specific date using his ID\n",
    "kershaw_stats = statcast_pitcher('2017-06-02', '2017-06-02', 477132)"
   ]
  },
  {
   "cell_type": "code",
   "execution_count": 6,
   "id": "1c8f8568-4bca-4b2f-b7a9-dd6b2ece3d05",
   "metadata": {
    "tags": []
   },
   "outputs": [],
   "source": [
    "fastball_df = kershaw_stats[kershaw_stats.pitch_name == '4-Seam Fastball']"
   ]
  },
  {
   "cell_type": "code",
   "execution_count": 7,
   "id": "89e16fad-ddac-427b-a5f6-7ec5f1bd5475",
   "metadata": {
    "tags": []
   },
   "outputs": [
    {
     "name": "stdout",
     "output_type": "stream",
     "text": [
      "Mean Release Speed:   93.409\n",
      "Median Release Speed: 93.500\n",
      "Mode Release Speed:   92.900\n"
     ]
    }
   ],
   "source": [
    "mean_batting_avg = fastball_df.release_speed.mean()\n",
    "median_batting_avg = fastball_df.release_speed.median()\n",
    "mode_batting_avg = fastball_df.release_speed.mode()[0]\n",
    "\n",
    "print(f\"Mean Release Speed:   {mean_batting_avg:.3f}\")\n",
    "print(f\"Median Release Speed: {median_batting_avg:.3f}\")\n",
    "print(f\"Mode Release Speed:   {mode_batting_avg:.3f}\")"
   ]
  },
  {
   "cell_type": "markdown",
   "id": "2d9fbe00-cdee-479c-a624-e9bda6a2e953",
   "metadata": {},
   "source": [
    "### 3. Exercise:\n",
    "- Calculate the mean, median, and mode for the number of home runs for the top 5 player in 2003.\n",
    "    - Find the player with the most home runs? \n",
    "    - How different is their home run total compared to the top 5 players?\n",
    "- Strech Question: Calculate the mean, median, and mode for home runs for the top 5 player in 1998. Compare the results to 2003. Why do think they are different? What happen in baseball during this time?\n",
    "\n",
    "**Hint:** To find the highest batting average, try sorting the data and selecting the first entry."
   ]
  },
  {
   "cell_type": "code",
   "execution_count": 8,
   "id": "9d4cc382-0766-4cc9-9442-bd67a8069f56",
   "metadata": {},
   "outputs": [
    {
     "data": {
      "text/html": [
       "<div>\n",
       "<style scoped>\n",
       "    .dataframe tbody tr th:only-of-type {\n",
       "        vertical-align: middle;\n",
       "    }\n",
       "\n",
       "    .dataframe tbody tr th {\n",
       "        vertical-align: top;\n",
       "    }\n",
       "\n",
       "    .dataframe thead th {\n",
       "        text-align: right;\n",
       "    }\n",
       "</style>\n",
       "<table border=\"1\" class=\"dataframe\">\n",
       "  <thead>\n",
       "    <tr style=\"text-align: right;\">\n",
       "      <th></th>\n",
       "      <th>IDfg</th>\n",
       "      <th>Name</th>\n",
       "      <th>Team</th>\n",
       "      <th>HR</th>\n",
       "    </tr>\n",
       "  </thead>\n",
       "  <tbody>\n",
       "    <tr>\n",
       "      <th>7</th>\n",
       "      <td>1274</td>\n",
       "      <td>Alex Rodriguez</td>\n",
       "      <td>TEX</td>\n",
       "      <td>47</td>\n",
       "    </tr>\n",
       "  </tbody>\n",
       "</table>\n",
       "</div>"
      ],
      "text/plain": [
       "   IDfg            Name Team  HR\n",
       "7  1274  Alex Rodriguez  TEX  47"
      ]
     },
     "execution_count": 8,
     "metadata": {},
     "output_type": "execute_result"
    }
   ],
   "source": [
    "## Calculate the mean, median, and mode for the number of home runs for the top 5 player in 2003.\n",
    "batting_2003_df = batting_stats(2003)\n",
    "\n",
    "top_hr_2003_df = batting_2003_df.sort_values(\n",
    "    by='HR', ascending=False)[:1][\n",
    "    ['IDfg', 'Name', 'Team', 'HR']]\n",
    "\n",
    "top_hr_2003_df"
   ]
  },
  {
   "cell_type": "code",
   "execution_count": 9,
   "id": "666e111e-17eb-4332-a62a-1e7c1ee9ca59",
   "metadata": {},
   "outputs": [
    {
     "data": {
      "text/html": [
       "<div>\n",
       "<style scoped>\n",
       "    .dataframe tbody tr th:only-of-type {\n",
       "        vertical-align: middle;\n",
       "    }\n",
       "\n",
       "    .dataframe tbody tr th {\n",
       "        vertical-align: top;\n",
       "    }\n",
       "\n",
       "    .dataframe thead th {\n",
       "        text-align: right;\n",
       "    }\n",
       "</style>\n",
       "<table border=\"1\" class=\"dataframe\">\n",
       "  <thead>\n",
       "    <tr style=\"text-align: right;\">\n",
       "      <th></th>\n",
       "      <th>IDfg</th>\n",
       "      <th>Name</th>\n",
       "      <th>Team</th>\n",
       "      <th>HR</th>\n",
       "      <th>mean_diff</th>\n",
       "    </tr>\n",
       "  </thead>\n",
       "  <tbody>\n",
       "    <tr>\n",
       "      <th>7</th>\n",
       "      <td>1274</td>\n",
       "      <td>Alex Rodriguez</td>\n",
       "      <td>TEX</td>\n",
       "      <td>47</td>\n",
       "      <td>0</td>\n",
       "    </tr>\n",
       "    <tr>\n",
       "      <th>14</th>\n",
       "      <td>409</td>\n",
       "      <td>Jim Thome</td>\n",
       "      <td>PHI</td>\n",
       "      <td>47</td>\n",
       "      <td>0</td>\n",
       "    </tr>\n",
       "    <tr>\n",
       "      <th>0</th>\n",
       "      <td>1109</td>\n",
       "      <td>Barry Bonds</td>\n",
       "      <td>SFG</td>\n",
       "      <td>45</td>\n",
       "      <td>2</td>\n",
       "    </tr>\n",
       "    <tr>\n",
       "      <th>22</th>\n",
       "      <td>709</td>\n",
       "      <td>Richie Sexson</td>\n",
       "      <td>MIL</td>\n",
       "      <td>45</td>\n",
       "      <td>2</td>\n",
       "    </tr>\n",
       "    <tr>\n",
       "      <th>1</th>\n",
       "      <td>1177</td>\n",
       "      <td>Albert Pujols</td>\n",
       "      <td>STL</td>\n",
       "      <td>43</td>\n",
       "      <td>4</td>\n",
       "    </tr>\n",
       "  </tbody>\n",
       "</table>\n",
       "</div>"
      ],
      "text/plain": [
       "    IDfg            Name Team  HR  mean_diff\n",
       "7   1274  Alex Rodriguez  TEX  47          0\n",
       "14   409       Jim Thome  PHI  47          0\n",
       "0   1109     Barry Bonds  SFG  45          2\n",
       "22   709   Richie Sexson  MIL  45          2\n",
       "1   1177   Albert Pujols  STL  43          4"
      ]
     },
     "metadata": {},
     "output_type": "display_data"
    }
   ],
   "source": [
    "## Find the player with the highest batting average? How different is their average compared to the top 5 players and all the players??\n",
    "\n",
    "top_5_hr_2003_df = batting_2003_df.sort_values(\n",
    "    by='HR', ascending=False)[:5][\n",
    "    ['IDfg', 'Name', 'Team', 'HR']]\n",
    "\n",
    "top_5_hr_2003_df\n",
    "\n",
    "top_5_hr_2003_df['mean_diff'] = round(top_hr_2003_df['HR'].values[0] - top_5_hr_2003_df['HR'], 3)\n",
    "\n",
    "display(top_5_hr_2003_df)"
   ]
  },
  {
   "cell_type": "code",
   "execution_count": 12,
   "id": "3d7c2d71-8d47-4283-95f0-d65ddd4caf8a",
   "metadata": {},
   "outputs": [
    {
     "data": {
      "text/html": [
       "<div>\n",
       "<style scoped>\n",
       "    .dataframe tbody tr th:only-of-type {\n",
       "        vertical-align: middle;\n",
       "    }\n",
       "\n",
       "    .dataframe tbody tr th {\n",
       "        vertical-align: top;\n",
       "    }\n",
       "\n",
       "    .dataframe thead th {\n",
       "        text-align: right;\n",
       "    }\n",
       "</style>\n",
       "<table border=\"1\" class=\"dataframe\">\n",
       "  <thead>\n",
       "    <tr style=\"text-align: right;\">\n",
       "      <th></th>\n",
       "      <th>IDfg</th>\n",
       "      <th>Name</th>\n",
       "      <th>Team</th>\n",
       "      <th>HR</th>\n",
       "      <th>mean_diff</th>\n",
       "    </tr>\n",
       "  </thead>\n",
       "  <tbody>\n",
       "    <tr>\n",
       "      <th>0</th>\n",
       "      <td>1008559</td>\n",
       "      <td>Mark McGwire</td>\n",
       "      <td>STL</td>\n",
       "      <td>70</td>\n",
       "      <td>0</td>\n",
       "    </tr>\n",
       "    <tr>\n",
       "      <th>6</th>\n",
       "      <td>302</td>\n",
       "      <td>Sammy Sosa</td>\n",
       "      <td>CHC</td>\n",
       "      <td>66</td>\n",
       "      <td>4</td>\n",
       "    </tr>\n",
       "    <tr>\n",
       "      <th>19</th>\n",
       "      <td>327</td>\n",
       "      <td>Ken Griffey Jr.</td>\n",
       "      <td>SEA</td>\n",
       "      <td>56</td>\n",
       "      <td>14</td>\n",
       "    </tr>\n",
       "    <tr>\n",
       "      <th>22</th>\n",
       "      <td>1233</td>\n",
       "      <td>Greg Vaughn</td>\n",
       "      <td>SDP</td>\n",
       "      <td>50</td>\n",
       "      <td>20</td>\n",
       "    </tr>\n",
       "    <tr>\n",
       "      <th>2</th>\n",
       "      <td>1000802</td>\n",
       "      <td>Albert Belle</td>\n",
       "      <td>CHW</td>\n",
       "      <td>49</td>\n",
       "      <td>21</td>\n",
       "    </tr>\n",
       "  </tbody>\n",
       "</table>\n",
       "</div>"
      ],
      "text/plain": [
       "       IDfg             Name Team  HR  mean_diff\n",
       "0   1008559     Mark McGwire  STL  70          0\n",
       "6       302       Sammy Sosa  CHC  66          4\n",
       "19      327  Ken Griffey Jr.  SEA  56         14\n",
       "22     1233      Greg Vaughn  SDP  50         20\n",
       "2   1000802     Albert Belle  CHW  49         21"
      ]
     },
     "metadata": {},
     "output_type": "display_data"
    }
   ],
   "source": [
    "## Strech Question: Calculate the mean, median, and mode for the batting averages of the top 5 player in 1998. \n",
    "batting_1998_df = batting_stats(1998)\n",
    "top_5_hr_1998_df = batting_1998_df.sort_values(\n",
    "    by='HR', ascending=False)[:5][\n",
    "    ['IDfg', 'Name', 'Team', 'HR']]\n",
    "\n",
    "top_5_hr_1998_df\n",
    "\n",
    "top_5_hr_1998_df['mean_diff'] = round(top_5_hr_1998_df['HR'].values[0] - top_5_hr_1998_df['HR'], 3)\n",
    "\n",
    "display(top_5_hr_1998_df)"
   ]
  },
  {
   "cell_type": "markdown",
   "id": "593c12b1-b6e4-4f46-9c9e-a795d77c0300",
   "metadata": {},
   "source": [
    "#### Compare the results from the two years. Why do think they are different? What happen in baseball during this time?"
   ]
  },
  {
   "cell_type": "markdown",
   "id": "e461ed55-8ee7-48cf-9af0-23e9cd5a663c",
   "metadata": {},
   "source": [
    "Here is a hint: https://www.espn.com/mlb/topics/_/page/the-steroids-era\n",
    "\n",
    "**Answer:**  "
   ]
  },
  {
   "cell_type": "markdown",
   "id": "f1f944e1-c929-45f9-ac90-e6f6371745a1",
   "metadata": {},
   "source": [
    "### 4. Reference:\n",
    "- [Khan Academy - Descriptive statistics](https://www.khanacademy.org/math/engageny-alg-1/alg1-2)\n",
    "- [How to Calculate Summary Statistics](https://pandas.pydata.org/docs/getting_started/intro_tutorials/06_calculate_statistics.html)"
   ]
  },
  {
   "cell_type": "code",
   "execution_count": null,
   "id": "0dfa3475-4f30-418b-ba39-ad2a8c980dac",
   "metadata": {},
   "outputs": [],
   "source": []
  }
 ],
 "metadata": {
  "kernelspec": {
   "display_name": ".conda-default:Python",
   "language": "python",
   "name": "conda-env-.conda-default-py"
  },
  "language_info": {
   "codemirror_mode": {
    "name": "ipython",
    "version": 3
   },
   "file_extension": ".py",
   "mimetype": "text/x-python",
   "name": "python",
   "nbconvert_exporter": "python",
   "pygments_lexer": "ipython3",
   "version": "3.9.19"
  }
 },
 "nbformat": 4,
 "nbformat_minor": 5
}
