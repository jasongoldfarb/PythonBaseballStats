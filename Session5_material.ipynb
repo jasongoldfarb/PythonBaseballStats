{
 "cells": [
  {
   "cell_type": "markdown",
   "id": "32c9f8db-346b-424b-afa2-34efe00327f9",
   "metadata": {},
   "source": [
    "# Session 5: Final Project – Fantasy Baseball Team Challenge\n",
    "\n",
    "Welcome to the final session! In this project, you’ll draft a fantasy baseball team using real MLB data. You'll calculate statistics to evaluate players, and then you’ll assemble your dream team. However, the name of this game is identify a team that is best at [Small Ball]('https://en.wikipedia.org/wiki/Small_ball_(baseball)').\n",
    "\n",
    "Your job is to draft players from 2024 on your team not based on the home runs, I know bummer, but using the following three metrics I created that are centered around a players small ball mentality: \n",
    "\n",
    "- **OBP (On-Base Percentage)**: Measures how often a batter reaches base on any play except for a fielder's choice or error. \n",
    "- **SBED (Stolen Base Effectiveness Differential)**: Highlights the efficiency of a player's attemped stolen bases\n",
    "- **ATR (Assist-to-Run Ratio)**: Measures unselfish run-creation\n",
    "\n",
    "In addition, use your favorite statistic or create a new metric that may help your team to win the fantasy small ball competition.\n",
    "\n",
    "Good luck and have fun! "
   ]
  },
  {
   "cell_type": "markdown",
   "id": "762c7e4d",
   "metadata": {},
   "source": [
    "## **Concepts Covered**\n",
    "- Accessing real MLB data with the `pybaseball` package\n",
    "- Calculating custom baseball metrics:\n",
    "  - **OBP (On-Base Percentage)**: Measures how often a batter reaches base on any play except for a fielder's choice or error. \n",
    "  - **SBED (Stolen Base Effectiveness Differential)**: Highlights the efficiency of a player's attemped stolen bases with atleast twenty stolen bases\n",
    "  - **ATR (Assist-to-Run Ratio)**: Measures unselfish run-creation\n",
    "- Create your own custome statistic or use your favorite one\n",
    "- Making data-driven decisions to build a fantasy team of your top 10 players. You do not have to have players at each position; rather, try to identify 10 players that excel the most across as many of your statistics as possible."
   ]
  },
  {
   "cell_type": "markdown",
   "id": "00b2809a-44c1-4517-89c5-985df55d1e67",
   "metadata": {},
   "source": [
    "## Load Data"
   ]
  },
  {
   "cell_type": "code",
   "execution_count": 1,
   "id": "8f0ec083-d6ed-4264-b045-9120564859d0",
   "metadata": {},
   "outputs": [],
   "source": [
    "from pybaseball import batting_stats, fielding_stats, playerid_lookup\n",
    "import pandas as pd\n",
    "import numpy as np\n",
    "import matplotlib.pyplot as plt\n",
    "\n",
    "# Load stats for a specific season\n",
    "year_value = 2024\n",
    "batting_df = batting_stats(year_value)\n",
    "fielding_df = fielding_stats(year_value)"
   ]
  },
  {
   "cell_type": "markdown",
   "id": "ee8ebbbc-6b82-4983-867e-d9679c77703a",
   "metadata": {
    "tags": []
   },
   "source": [
    "## 1. On-Base Percentage \n",
    "Measures how often a batter reaches base on any play except for a fielder's choice or error.\n",
    "\n",
    "**Formula:**\n",
    "\n",
    "`OBP = (H + BB + HBP) / (AB + BB + HBP + SF)`\n",
    "\n",
    "Where:\n",
    "- H: Hits\n",
    "- BB: Walks\n",
    "- HBP: Hit by Pitch\n",
    "- AB: At Bats\n",
    "- SF: Sacrifice Flies "
   ]
  },
  {
   "cell_type": "code",
   "execution_count": 2,
   "id": "a5f1a790-6348-4b0b-82c5-a7a0d8635d86",
   "metadata": {
    "tags": []
   },
   "outputs": [],
   "source": [
    "# Hint: there is a column in the `batting_df`"
   ]
  },
  {
   "cell_type": "markdown",
   "id": "11710f0f-28fc-43d6-8bf3-35305d0c49e5",
   "metadata": {},
   "source": [
    "## 2. Stolen Base Effectiveness Differential \n",
    "Highlights the efficiency of a player's attemped stolen bases. Also, ratio is only calculated when a player attemped 20 more stolen bases in that season.\n",
    "\n",
    "**Formula:**\n",
    "\n",
    "`Stolen Base Effectiveness Differential = (Stolen Bases - Stolen Bases Attemped) / Total Stolen Bases`"
   ]
  },
  {
   "cell_type": "code",
   "execution_count": 3,
   "id": "bd687bc6-a294-4ec5-80a6-2938ef5c3309",
   "metadata": {},
   "outputs": [],
   "source": [
    "# Calculate Net_SB_Effectiveness only for players with at least 20 SB\n",
    "\n",
    "# Listed is some sample code: \n",
    "\n",
    "# df['col'] = np.where(\n",
    "#     df['var1'] >= 20,\n",
    "#     (df['var1'] - df['var2']) / (df['var1'] + df['var2']),\n",
    "#     0\n",
    "# )\n",
    "\n",
    "# # Fill any NaN values (just in case) with 0\n",
    "# df['col'] = df['col'].fillna(0)\n",
    "\n",
    "# This is the trickiest calculation. Check the answer notebook if you get stuck"
   ]
  },
  {
   "cell_type": "markdown",
   "id": "f67bd84f-7bac-4907-a1b6-22417d608c31",
   "metadata": {},
   "source": [
    "## 3. ATR - Assist-to-Run Ratio\n",
    "Estimates a player's role in setting up scoring via sacrifices.\n",
    "\n",
    "**Formula:**\n",
    "`ATR = (Sac Flies + Sac Hits) / Plate Appearances`"
   ]
  },
  {
   "cell_type": "code",
   "execution_count": null,
   "id": "ebe616ad-0ae5-4d55-b210-50298a9467c9",
   "metadata": {},
   "outputs": [],
   "source": [
    "#Hint: use the columns provided within the batting df"
   ]
  },
  {
   "cell_type": "markdown",
   "id": "756ae136-cf03-42c3-bcdc-90b602fdb9b8",
   "metadata": {},
   "source": [
    "## 4. Favorite or Custom Statistics \n",
    "Use your favorite statistic or create a new metrics that may help your team to win the fantasy small ball competition. Here are mine:\n",
    "\n",
    "**Percent of Runs Scored on Home Runs:** Small ball teams typically score a lower percentage of their runs on home runs compared to teams that prioritize power hitting. \n",
    "\n",
    "**Formula:**\n",
    "`R_HR = HR / R`"
   ]
  },
  {
   "cell_type": "code",
   "execution_count": null,
   "id": "64de73e0-9294-47ca-a83d-a99ab4e8fbf3",
   "metadata": {},
   "outputs": [],
   "source": []
  },
  {
   "cell_type": "markdown",
   "id": "621c3afb-0210-4bd7-83a5-1063a1bd2d3e",
   "metadata": {},
   "source": [
    "## 5. Fantasy Team\n",
    "Making data-driven decisions to build a fantasy team of your top 10 players. You do not have to have players at each position; rather, try to identify 10 players that excel the most across as many of your statistics as possible."
   ]
  },
  {
   "cell_type": "code",
   "execution_count": null,
   "id": "10b4382b-1ee6-4abe-bca6-cf14ed4a398b",
   "metadata": {
    "tags": []
   },
   "outputs": [],
   "source": []
  },
  {
   "cell_type": "code",
   "execution_count": null,
   "id": "8e69abd2-b735-46ba-933d-2c6bf3f8ed99",
   "metadata": {},
   "outputs": [],
   "source": []
  }
 ],
 "metadata": {
  "kernelspec": {
   "display_name": ".conda-default:Python",
   "language": "python",
   "name": "conda-env-.conda-default-py"
  },
  "language_info": {
   "codemirror_mode": {
    "name": "ipython",
    "version": 3
   },
   "file_extension": ".py",
   "mimetype": "text/x-python",
   "name": "python",
   "nbconvert_exporter": "python",
   "pygments_lexer": "ipython3",
   "version": "3.9.19"
  }
 },
 "nbformat": 4,
 "nbformat_minor": 5
}
