{
 "cells": [
  {
   "cell_type": "markdown",
   "id": "6b7e2c46-134d-4a60-87c4-829b0010c4cb",
   "metadata": {},
   "source": [
    "## Session 2: Descriptive Statistics - Mean, Median, Mode\n",
    "\n",
    "**Objective:** Introduce basic statistical concepts and use Python to calculate the mean, median, and mode for baseball data.\n",
    "\n",
    "### 1. Concepts Covered\n",
    "- Descriptive statistics: mean, median, mode.\n",
    "- Using Python to calculate these statistics for baseball data (e.g., player batting averages).\n",
    "- Formula references:\n",
    "   - Mean: $\\bar{x} = \\frac{1}{n}\\sum_{i=1}^{n} x_i$\n",
    "   - Median: The median of a dataset $X = \\{x_1, x_2, ..., x_n\\}$:\n",
    "      - If $n$ is odd, the median is $x_{\\frac{n+1}{2}}$.\n",
    "      - If $n$ is even, the median is $\\frac{x_{\\frac{n}{2}} + x_{\\frac{n}{2} + 1}}{2}$.\n",
    "   - Mode: The most frequent value"
   ]
  },
  {
   "cell_type": "markdown",
   "id": "325cd8fb-93e2-4554-8200-27162b33985e",
   "metadata": {},
   "source": [
    "### 2. Python Code Walkthrough\n",
    "\n",
    "Install and import packages:"
   ]
  },
  {
   "cell_type": "code",
   "execution_count": 1,
   "id": "1d321efa-c177-4b2b-a484-294f2cde3cb2",
   "metadata": {
    "tags": []
   },
   "outputs": [],
   "source": [
    "from pybaseball import batting_stats, playerid_lookup, statcast_pitcher\n",
    "import pandas as pd\n",
    "pd.set_option('display.max_columns', None)"
   ]
  },
  {
   "cell_type": "markdown",
   "id": "9900e62d-ebe1-45f7-8411-d14b5f665ddc",
   "metadata": {},
   "source": [
    "#### Descriptive Statistics: Batting Average Analysis"
   ]
  },
  {
   "cell_type": "code",
   "execution_count": 2,
   "id": "75ea4bec-f27d-442b-9d47-4ec48dc59a9d",
   "metadata": {
    "tags": []
   },
   "outputs": [],
   "source": [
    "data = batting_stats(2023)\n",
    "# data.columns.to_list()"
   ]
  },
  {
   "cell_type": "code",
   "execution_count": 3,
   "id": "597ad6f6-5170-46a7-8145-92176f322119",
   "metadata": {
    "tags": []
   },
   "outputs": [
    {
     "name": "stdout",
     "output_type": "stream",
     "text": [
      "Mean Batting Average:   0.262\n",
      "Median Batting Average: 0.262\n",
      "Mode Batting Average:   0.258\n"
     ]
    }
   ],
   "source": [
    "mean_batting_avg = data['AVG'].mean()\n",
    "median_batting_avg = data['AVG'].median()\n",
    "mode_batting_avg = data['AVG'].mode()[0]\n",
    "\n",
    "print(f\"Mean Batting Average:   {mean_batting_avg:.3f}\")\n",
    "print(f\"Median Batting Average: {median_batting_avg:.3f}\")\n",
    "print(f\"Mode Batting Average:   {mode_batting_avg:.3f}\")"
   ]
  },
  {
   "cell_type": "markdown",
   "id": "1d9a2301-ba6e-4dec-8f99-ffc259e5e77a",
   "metadata": {},
   "source": [
    "##### How much better were the top five hitters in 2023 compared to the three measures of central tendency player that year? "
   ]
  },
  {
   "cell_type": "code",
   "execution_count": 4,
   "id": "d6910c2c-d5e7-4d99-b4c8-9cb7f6fabf58",
   "metadata": {
    "tags": []
   },
   "outputs": [],
   "source": [
    "# First 5 observations in the Batting Stats df\n",
    "batting = batting_stats(2023)"
   ]
  },
  {
   "cell_type": "code",
   "execution_count": 5,
   "id": "c031d0ed-8b9a-4226-8b67-e8ce71a0110f",
   "metadata": {
    "tags": []
   },
   "outputs": [
    {
     "data": {
      "text/html": [
       "<div>\n",
       "<style scoped>\n",
       "    .dataframe tbody tr th:only-of-type {\n",
       "        vertical-align: middle;\n",
       "    }\n",
       "\n",
       "    .dataframe tbody tr th {\n",
       "        vertical-align: top;\n",
       "    }\n",
       "\n",
       "    .dataframe thead th {\n",
       "        text-align: right;\n",
       "    }\n",
       "</style>\n",
       "<table border=\"1\" class=\"dataframe\">\n",
       "  <thead>\n",
       "    <tr style=\"text-align: right;\">\n",
       "      <th></th>\n",
       "      <th>IDfg</th>\n",
       "      <th>Name</th>\n",
       "      <th>Team</th>\n",
       "      <th>AVG</th>\n",
       "      <th>mean_diff</th>\n",
       "      <th>median_diff</th>\n",
       "      <th>mode_diff</th>\n",
       "    </tr>\n",
       "  </thead>\n",
       "  <tbody>\n",
       "    <tr>\n",
       "      <th>13</th>\n",
       "      <td>18568</td>\n",
       "      <td>Luis Arraez</td>\n",
       "      <td>MIA</td>\n",
       "      <td>0.354</td>\n",
       "      <td>0.092</td>\n",
       "      <td>0.092</td>\n",
       "      <td>0.096</td>\n",
       "    </tr>\n",
       "    <tr>\n",
       "      <th>1</th>\n",
       "      <td>18401</td>\n",
       "      <td>Ronald Acuna Jr.</td>\n",
       "      <td>ATL</td>\n",
       "      <td>0.337</td>\n",
       "      <td>0.075</td>\n",
       "      <td>0.075</td>\n",
       "      <td>0.079</td>\n",
       "    </tr>\n",
       "    <tr>\n",
       "      <th>5</th>\n",
       "      <td>5361</td>\n",
       "      <td>Freddie Freeman</td>\n",
       "      <td>LAD</td>\n",
       "      <td>0.331</td>\n",
       "      <td>0.069</td>\n",
       "      <td>0.069</td>\n",
       "      <td>0.073</td>\n",
       "    </tr>\n",
       "    <tr>\n",
       "      <th>6</th>\n",
       "      <td>16578</td>\n",
       "      <td>Yandy Diaz</td>\n",
       "      <td>TBR</td>\n",
       "      <td>0.330</td>\n",
       "      <td>0.068</td>\n",
       "      <td>0.068</td>\n",
       "      <td>0.072</td>\n",
       "    </tr>\n",
       "    <tr>\n",
       "      <th>2</th>\n",
       "      <td>13624</td>\n",
       "      <td>Corey Seager</td>\n",
       "      <td>TEX</td>\n",
       "      <td>0.327</td>\n",
       "      <td>0.065</td>\n",
       "      <td>0.065</td>\n",
       "      <td>0.069</td>\n",
       "    </tr>\n",
       "  </tbody>\n",
       "</table>\n",
       "</div>"
      ],
      "text/plain": [
       "     IDfg              Name Team    AVG  mean_diff  median_diff  mode_diff\n",
       "13  18568       Luis Arraez  MIA  0.354      0.092        0.092      0.096\n",
       "1   18401  Ronald Acuna Jr.  ATL  0.337      0.075        0.075      0.079\n",
       "5    5361   Freddie Freeman  LAD  0.331      0.069        0.069      0.073\n",
       "6   16578        Yandy Diaz  TBR  0.330      0.068        0.068      0.072\n",
       "2   13624      Corey Seager  TEX  0.327      0.065        0.065      0.069"
      ]
     },
     "metadata": {},
     "output_type": "display_data"
    }
   ],
   "source": [
    "top_10_avg_df = batting.sort_values(\n",
    "    by='AVG', ascending=False)[:5][\n",
    "    ['IDfg', 'Name', 'Team', 'AVG']]\n",
    "\n",
    "top_10_avg_df['mean_diff'] = round(top_10_avg_df['AVG'] - mean_batting_avg, 3)\n",
    "top_10_avg_df['median_diff'] = round(top_10_avg_df['AVG'] - median_batting_avg, 3)\n",
    "top_10_avg_df['mode_diff'] = round(top_10_avg_df['AVG'] - mode_batting_avg, 3)\n",
    "\n",
    "display(top_10_avg_df)"
   ]
  },
  {
   "cell_type": "markdown",
   "id": "d0388489-3e68-4997-a4be-57c21d894a35",
   "metadata": {},
   "source": [
    "#### Descriptive Statistics: Average Fastball Speed Analysis for Clayton Kershaw"
   ]
  },
  {
   "cell_type": "code",
   "execution_count": 6,
   "id": "fe24dc13-94ff-4b43-bfba-23cab4952def",
   "metadata": {
    "tags": []
   },
   "outputs": [
    {
     "name": "stdout",
     "output_type": "stream",
     "text": [
      "Gathering player lookup table. This may take a moment.\n",
      "Gathering Player Data\n"
     ]
    }
   ],
   "source": [
    "# Find Clayton Kershaw's player id\n",
    "playerid_lookup('kershaw', 'clayton', fuzzy=True) \n",
    "# His MLBAM ID is 477132.\n",
    "\n",
    "# Get Kershaw's stats for a specific date using his ID\n",
    "kershaw_stats = statcast_pitcher('2017-06-02', '2017-06-02', 477132)"
   ]
  },
  {
   "cell_type": "code",
   "execution_count": 11,
   "id": "1c8f8568-4bca-4b2f-b7a9-dd6b2ece3d05",
   "metadata": {
    "tags": []
   },
   "outputs": [],
   "source": [
    "fastball_df = kershaw_stats[kershaw_stats.pitch_name == '4-Seam Fastball']"
   ]
  },
  {
   "cell_type": "code",
   "execution_count": 13,
   "id": "89e16fad-ddac-427b-a5f6-7ec5f1bd5475",
   "metadata": {
    "tags": []
   },
   "outputs": [
    {
     "name": "stdout",
     "output_type": "stream",
     "text": [
      "Mean Release Speed:   93.409\n",
      "Median Release Speed: 93.500\n",
      "Mode Release Speed:   92.900\n"
     ]
    }
   ],
   "source": [
    "mean_batting_avg = fastball_df.release_speed.mean()\n",
    "median_batting_avg = fastball_df.release_speed.median()\n",
    "mode_batting_avg = fastball_df.release_speed.mode()[0]\n",
    "\n",
    "print(f\"Mean Release Speed:   {mean_batting_avg:.3f}\")\n",
    "print(f\"Median Release Speed: {median_batting_avg:.3f}\")\n",
    "print(f\"Mode Release Speed:   {mode_batting_avg:.3f}\")"
   ]
  },
  {
   "cell_type": "markdown",
   "id": "2d9fbe00-cdee-479c-a624-e9bda6a2e953",
   "metadata": {},
   "source": [
    "### 3. Exercise:\n",
    "- Calculate the mean, median, and mode for the batting averages of the top 5 players.\n",
    "- Questions:\n",
    "    - Find the player with the highest batting average? How different is their average compared to the top 5 players and all the players?\n",
    "    - Why might the median be different from the mean? (Strech Goal)\n",
    "\n",
    "**Hint:** To find the highest batting average, try sorting the data and selecting the first entry."
   ]
  },
  {
   "cell_type": "code",
   "execution_count": null,
   "id": "9d4cc382-0766-4cc9-9442-bd67a8069f56",
   "metadata": {},
   "outputs": [],
   "source": [
    "## Calculate the mean, median, and mode for the batting averages of the top 5 players"
   ]
  },
  {
   "cell_type": "code",
   "execution_count": null,
   "id": "666e111e-17eb-4332-a62a-1e7c1ee9ca59",
   "metadata": {},
   "outputs": [],
   "source": [
    "## Find the player with the highest batting average? How different is their average compared to the top 5 players and all the players?"
   ]
  },
  {
   "cell_type": "code",
   "execution_count": null,
   "id": "3d7c2d71-8d47-4283-95f0-d65ddd4caf8a",
   "metadata": {},
   "outputs": [],
   "source": [
    "## Why might the median be different from the mean (Explain in words"
   ]
  },
  {
   "cell_type": "markdown",
   "id": "f1f944e1-c929-45f9-ac90-e6f6371745a1",
   "metadata": {},
   "source": [
    "### 4. Reference:\n",
    "- [Khan Academy - Descriptive statistics](https://www.khanacademy.org/math/engageny-alg-1/alg1-2)\n",
    "- [How to Calculate Summary Statistics](https://pandas.pydata.org/docs/getting_started/intro_tutorials/06_calculate_statistics.html)"
   ]
  },
  {
   "cell_type": "code",
   "execution_count": null,
   "id": "0dfa3475-4f30-418b-ba39-ad2a8c980dac",
   "metadata": {},
   "outputs": [],
   "source": []
  }
 ],
 "metadata": {
  "kernelspec": {
   "display_name": ".conda-default:Python",
   "language": "python",
   "name": "conda-env-.conda-default-py"
  },
  "language_info": {
   "codemirror_mode": {
    "name": "ipython",
    "version": 3
   },
   "file_extension": ".py",
   "mimetype": "text/x-python",
   "name": "python",
   "nbconvert_exporter": "python",
   "pygments_lexer": "ipython3",
   "version": "3.9.19"
  }
 },
 "nbformat": 4,
 "nbformat_minor": 5
}
