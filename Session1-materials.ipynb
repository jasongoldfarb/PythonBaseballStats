{
 "cells": [
  {
   "cell_type": "markdown",
   "id": "f14ad395",
   "metadata": {},
   "source": [
    "## Session 1: Getting Started with Python and Baseball Data\n",
    "\n",
    "**Objective:** Get comfortable with Python basics and loading baseball data.\n",
    "\n",
    "### 1. Concepts Covered\n",
    "- Python syntax: `print`, `variables`, `DataFrames`\n",
    "- How to install and use `pybaseball`\n",
    "- Fetching and displaying real MLB dat"
   ]
  },
  {
   "cell_type": "markdown",
   "id": "9b25b4ff",
   "metadata": {},
   "source": [
    "### 2. Python Code Walkthrough\n",
    "\n",
    "Install and import packages:"
   ]
  },
  {
   "cell_type": "code",
   "execution_count": null,
   "id": "855af791",
   "metadata": {
    "tags": []
   },
   "outputs": [],
   "source": [
    "# Install this once\n",
    "# !pip install pybaseball"
   ]
  },
  {
   "cell_type": "code",
   "execution_count": null,
   "id": "f62358ff",
   "metadata": {},
   "outputs": [],
   "source": [
    "from pybaseball import batting_stats, playerid_lookup, statcast_pitcher\n",
    "import pandas as pd\n",
    "pd.set_option('display.max_columns', None)"
   ]
  },
  {
   "cell_type": "markdown",
   "id": "db168811-01de-4d0d-91de-83a7acb188f9",
   "metadata": {},
   "source": [
    "## Exploring the Batting Stats"
   ]
  },
  {
   "cell_type": "code",
   "execution_count": null,
   "id": "fdfdeed8",
   "metadata": {},
   "outputs": [],
   "source": [
    "# First 5 observations in the Batting Stats df\n",
    "batting = batting_stats(2023)\n",
    "display(batting.head())"
   ]
  },
  {
   "cell_type": "code",
   "execution_count": null,
   "id": "40d84796",
   "metadata": {},
   "outputs": [],
   "source": [
    "## Finding Freddie Freeman in the look up table to find \n",
    "playerid_lookup('Freeman', 'Freddie')"
   ]
  },
  {
   "cell_type": "code",
   "execution_count": null,
   "id": "9733c5a8-d2a0-469b-b432-bd97c065c396",
   "metadata": {
    "tags": []
   },
   "outputs": [],
   "source": [
    "## How to use the look up table\n",
    "\n",
    "# Find Clayton Kershaw's player id\n",
    "playerid_lookup('kershaw', 'clayton') \n",
    "# His MLBAM ID is 477132.\n",
    "\n",
    "# Get Kershaw's stats for a specific date using his ID\n",
    "kershaw_stats = statcast_pitcher('2017-06-02', '2017-06-02', 477132)\n",
    "\n",
    "# Get Kershaw's stats for a specific for about a year using his ID\n",
    "# kershaw_stats = statcast_pitcher('2017-06-02', '2018-06-02', 477132)"
   ]
  },
  {
   "cell_type": "code",
   "execution_count": null,
   "id": "0116c672-4506-489f-9cde-c95ed005d1f4",
   "metadata": {
    "tags": []
   },
   "outputs": [],
   "source": [
    "## examine only strike outs\n",
    "kershaw_strike_out_df = kershaw_stats[kershaw_stats.events == 'strikeout']\n",
    "display(kershaw_strike_out_df[:5])\n",
    "## How did he strike out batters the most during that game?\n",
    "print(kershaw_strike_out_df.description.value_counts(normalize=True))"
   ]
  },
  {
   "cell_type": "markdown",
   "id": "44c7ee34",
   "metadata": {},
   "source": [
    "### 3. Activity & Exploration Questions\n",
    "1.\tFind the batting stats for your favorite player and explore a year of their batting data.\n",
    "\n",
    "**Hint:** Use `playerid_lookup()` to get their ID, then filter the DataFrame.\n",
    "\n",
    "2.\tHow many players hit more than 30 home runs in that same year?\n",
    "\n",
    "**Hint:** Use batting `[batting['HR'] > 30]` and check `.shape`.\n",
    "\n",
    "3.\tWho had the highest batting average that year?\n",
    "\n",
    "**Hint:** Use `.sort_values()` on the `AVG` column."
   ]
  },
  {
   "cell_type": "code",
   "execution_count": null,
   "id": "8a1fb011",
   "metadata": {},
   "outputs": [],
   "source": [
    "# Answer 1\n",
    "display(playerid_lookup('Aaron', 'Hank', fuzzy=True))\n",
    "batting = batting_stats(1955)\n",
    "display(batting[batting.IDfg == 1000001])"
   ]
  },
  {
   "cell_type": "code",
   "execution_count": null,
   "id": "484572d2",
   "metadata": {},
   "outputs": [],
   "source": [
    "# Answer 2\n",
    "batting[batting['HR'] > 30].shape[0]"
   ]
  },
  {
   "cell_type": "code",
   "execution_count": null,
   "id": "b6be06e0",
   "metadata": {},
   "outputs": [],
   "source": [
    "# Answer 3\n",
    "batting.sort_values(\n",
    "    by=['AVG'], ascending=False)[\n",
    "    ['Name', 'Team', 'AVG']].reset_index()[:10]"
   ]
  },
  {
   "cell_type": "markdown",
   "id": "61551a05",
   "metadata": {},
   "source": [
    "### 4. Extension\n",
    "\n",
    "Explore top 10 players by a stat of your choice (HR, AVG, RBI) and year of your choice:"
   ]
  },
  {
   "cell_type": "code",
   "execution_count": null,
   "id": "fdaf5323",
   "metadata": {},
   "outputs": [],
   "source": [
    "batting.sort_values('HR', ascending=False).head(10)"
   ]
  },
  {
   "cell_type": "markdown",
   "id": "ffbf280c",
   "metadata": {},
   "source": [
    "### 5. Helpful Links\n",
    "- [W3Schools Python Basics](https://www.w3schools.com/python/)"
   ]
  },
  {
   "cell_type": "code",
   "execution_count": null,
   "id": "7e912783",
   "metadata": {},
   "outputs": [],
   "source": []
  }
 ],
 "metadata": {
  "kernelspec": {
   "display_name": ".conda-default:Python",
   "language": "python",
   "name": "conda-env-.conda-default-py"
  },
  "language_info": {
   "codemirror_mode": {
    "name": "ipython",
    "version": 3
   },
   "file_extension": ".py",
   "mimetype": "text/x-python",
   "name": "python",
   "nbconvert_exporter": "python",
   "pygments_lexer": "ipython3",
   "version": "3.9.19"
  }
 },
 "nbformat": 4,
 "nbformat_minor": 5
}
