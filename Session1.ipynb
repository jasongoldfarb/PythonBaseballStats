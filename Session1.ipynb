{
 "cells": [
  {
   "cell_type": "markdown",
   "id": "f14ad395",
   "metadata": {},
   "source": [
    "## Session 1: Getting Started with Python and Baseball Data\n",
    "\n",
    "**Objective:** Get comfortable with Python basics and loading baseball data.\n",
    "\n",
    "### 1. Concepts Covered\n",
    "- Python syntax: `print`, `variables`, `DataFrames`\n",
    "- How to install and use `pybaseball`\n",
    "- Fetching and displaying real MLB dat"
   ]
  },
  {
   "cell_type": "markdown",
   "id": "9b25b4ff",
   "metadata": {},
   "source": [
    "### 2. Python Code Walkthrough\n",
    "\n",
    "Install and import packages:"
   ]
  },
  {
   "cell_type": "code",
   "execution_count": null,
   "id": "855af791",
   "metadata": {},
   "outputs": [],
   "source": [
    "# Install this once\n",
    "# !pip install pybaseball"
   ]
  },
  {
   "cell_type": "code",
   "execution_count": null,
   "id": "f62358ff",
   "metadata": {},
   "outputs": [],
   "source": [
    "from pybaseball import batting_stats, playerid_lookup\n",
    "import pandas as pd\n",
    "pd.set_option('display.max_columns', None)"
   ]
  },
  {
   "cell_type": "code",
   "execution_count": null,
   "id": "fdfdeed8",
   "metadata": {},
   "outputs": [],
   "source": [
    "batting = batting_stats(2023)\n",
    "display(batting.head())"
   ]
  },
  {
   "cell_type": "code",
   "execution_count": null,
   "id": "40d84796",
   "metadata": {},
   "outputs": [],
   "source": [
    "playerid_lookup('Judge', 'Aaron')"
   ]
  },
  {
   "cell_type": "markdown",
   "id": "44c7ee34",
   "metadata": {},
   "source": [
    "### 3. Activity & Exploration Questions\n",
    "1.\tFind the batting stats for your favorite player.\n",
    "\n",
    "**Hint:** Use `playerid_lookup()` to get their ID, then filter the DataFrame.\n",
    "\n",
    "2.\tHow many players hit more than 30 home runs?\n",
    "\n",
    "**Hint:** Use batting `[batting['HR'] > 30]` and check `.shape`.\n",
    "\n",
    "3.\tWho had the highest batting average?\n",
    "\n",
    "**Hint:** Use `.sort_values()` on the `AVG` column."
   ]
  },
  {
   "cell_type": "code",
   "execution_count": null,
   "id": "8a1fb011",
   "metadata": {},
   "outputs": [],
   "source": [
    "# Answer 1\n",
    "playerid_lookup('Aaron', 'Hank', fuzzy=True)\n",
    "batting = batting_stats(1955)\n",
    "display(batting[batting.IDfg == 1000001])"
   ]
  },
  {
   "cell_type": "code",
   "execution_count": null,
   "id": "484572d2",
   "metadata": {},
   "outputs": [],
   "source": [
    "# Answer 2\n",
    "batting[batting['HR'] > 30].shape[0]"
   ]
  },
  {
   "cell_type": "code",
   "execution_count": null,
   "id": "b6be06e0",
   "metadata": {},
   "outputs": [],
   "source": [
    "# Answer 3\n",
    "batting.sort_values(\n",
    "    by=['AVG'], ascending=False)[\n",
    "    ['Name', 'Team', 'AVG']].reset_index()[:10]"
   ]
  },
  {
   "cell_type": "markdown",
   "id": "61551a05",
   "metadata": {},
   "source": [
    "### 4. Extension\n",
    "\n",
    "Explore top 10 players by a stat of your choice (HR, AVG, RBI) and year of your choice:"
   ]
  },
  {
   "cell_type": "code",
   "execution_count": null,
   "id": "fdaf5323",
   "metadata": {},
   "outputs": [],
   "source": [
    "batting.sort_values('HR', ascending=False).head(10)"
   ]
  },
  {
   "cell_type": "markdown",
   "id": "ffbf280c",
   "metadata": {},
   "source": [
    "### 5. Helpful Links\n",
    "- [W3Schools Python Basics](https://www.w3schools.com/python/)"
   ]
  },
  {
   "cell_type": "code",
   "execution_count": null,
   "id": "7e912783",
   "metadata": {},
   "outputs": [],
   "source": []
  }
 ],
 "metadata": {
  "kernelspec": {
   "display_name": "Python 3 (ipykernel)",
   "language": "python",
   "name": "python3"
  },
  "language_info": {
   "codemirror_mode": {
    "name": "ipython",
    "version": 3
   },
   "file_extension": ".py",
   "mimetype": "text/x-python",
   "name": "python",
   "nbconvert_exporter": "python",
   "pygments_lexer": "ipython3",
   "version": "3.9.12"
  }
 },
 "nbformat": 4,
 "nbformat_minor": 5
}
