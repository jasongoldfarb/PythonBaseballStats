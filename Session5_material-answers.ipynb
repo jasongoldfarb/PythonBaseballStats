{
 "cells": [
  {
   "cell_type": "markdown",
   "id": "32c9f8db-346b-424b-afa2-34efe00327f9",
   "metadata": {},
   "source": [
    "# Session 5: Final Project – Fantasy Baseball Team Challenge\n",
    "\n",
    "Welcome to the final session! In this project, you’ll draft a fantasy baseball team using real MLB data. You'll calculate statistics to evaluate players, and then you’ll assemble your dream team. However, the name of this game is identify a team that is best at [Small Ball]('https://en.wikipedia.org/wiki/Small_ball_(baseball)').\n",
    "\n",
    "Your job is to draft players from 2024 on your team not based on the home runs, I know bummer, but using the following three metrics I created that are centered around a players small ball mentality: \n",
    "\n",
    "- **OBP (On-Base Percentage)**: Measures how often a batter reaches base on any play except for a fielder's choice or error. \n",
    "- **SBED (Stolen Base Effectiveness Differential)**: Highlights the efficiency of a player's attemped stolen bases\n",
    "- **ATR (Assist-to-Run Ratio)**: Measures unselfish run-creation\n",
    "\n",
    "In addition, use your favorite statistic or create a new metric that may help your team to win the fantasy small ball competition.\n",
    "\n",
    "Good luck and have fun! "
   ]
  },
  {
   "cell_type": "markdown",
   "id": "762c7e4d",
   "metadata": {},
   "source": [
    "## **Concepts Covered**\n",
    "- Accessing real MLB data with the `pybaseball` package\n",
    "- Calculating custom baseball metrics:\n",
    "  - **OBP (On-Base Percentage)**: Measures how often a batter reaches base on any play except for a fielder's choice or error. \n",
    "  - **SBED (Stolen Base Effectiveness Differential)**: Highlights the efficiency of a player's attemped stolen bases with atleast twenty stolen bases\n",
    "  - **ATR (Assist-to-Run Ratio)**: Measures unselfish run-creation\n",
    "- Create your own custome statistic or use your favorite one\n",
    "- Making data-driven decisions to build a fantasy team of your top 10 players. You do not have to have players at each position; rather, try to identify 10 players that excel the most across as many of your statistics as possible."
   ]
  },
  {
   "cell_type": "markdown",
   "id": "00b2809a-44c1-4517-89c5-985df55d1e67",
   "metadata": {},
   "source": [
    "## Load Data"
   ]
  },
  {
   "cell_type": "code",
   "execution_count": 1,
   "id": "8f0ec083-d6ed-4264-b045-9120564859d0",
   "metadata": {},
   "outputs": [],
   "source": [
    "from pybaseball import batting_stats, fielding_stats, playerid_lookup\n",
    "import pandas as pd\n",
    "import numpy as np\n",
    "import matplotlib.pyplot as plt\n",
    "\n",
    "# Load stats for a specific season\n",
    "year_value = 2024\n",
    "batting_df = batting_stats(year_value)\n",
    "fielding_df = fielding_stats(year_value)"
   ]
  },
  {
   "cell_type": "markdown",
   "id": "ee8ebbbc-6b82-4983-867e-d9679c77703a",
   "metadata": {
    "tags": []
   },
   "source": [
    "## 1. On-Base Percentage \n",
    "Measures how often a batter reaches base on any play except for a fielder's choice or error.\n",
    "\n",
    "**Formula:**\n",
    "\n",
    "`OBP = (H + BB + HBP) / (AB + BB + HBP + SF)`\n",
    "\n",
    "Where:\n",
    "- H: Hits\n",
    "- BB: Walks\n",
    "- HBP: Hit by Pitch\n",
    "- AB: At Bats\n",
    "- SF: Sacrifice Flies "
   ]
  },
  {
   "cell_type": "code",
   "execution_count": 26,
   "id": "a5f1a790-6348-4b0b-82c5-a7a0d8635d86",
   "metadata": {
    "tags": []
   },
   "outputs": [
    {
     "data": {
      "text/html": [
       "<div>\n",
       "<style scoped>\n",
       "    .dataframe tbody tr th:only-of-type {\n",
       "        vertical-align: middle;\n",
       "    }\n",
       "\n",
       "    .dataframe tbody tr th {\n",
       "        vertical-align: top;\n",
       "    }\n",
       "\n",
       "    .dataframe thead th {\n",
       "        text-align: right;\n",
       "    }\n",
       "</style>\n",
       "<table border=\"1\" class=\"dataframe\">\n",
       "  <thead>\n",
       "    <tr style=\"text-align: right;\">\n",
       "      <th></th>\n",
       "      <th>Name</th>\n",
       "      <th>Team</th>\n",
       "      <th>OBP</th>\n",
       "    </tr>\n",
       "  </thead>\n",
       "  <tbody>\n",
       "    <tr>\n",
       "      <th>0</th>\n",
       "      <td>Aaron Judge</td>\n",
       "      <td>NYY</td>\n",
       "      <td>0.458</td>\n",
       "    </tr>\n",
       "    <tr>\n",
       "      <th>2</th>\n",
       "      <td>Juan Soto</td>\n",
       "      <td>NYY</td>\n",
       "      <td>0.419</td>\n",
       "    </tr>\n",
       "    <tr>\n",
       "      <th>5</th>\n",
       "      <td>Vladimir Guerrero Jr.</td>\n",
       "      <td>TOR</td>\n",
       "      <td>0.396</td>\n",
       "    </tr>\n",
       "    <tr>\n",
       "      <th>4</th>\n",
       "      <td>Yordan Alvarez</td>\n",
       "      <td>HOU</td>\n",
       "      <td>0.392</td>\n",
       "    </tr>\n",
       "    <tr>\n",
       "      <th>1</th>\n",
       "      <td>Shohei Ohtani</td>\n",
       "      <td>LAD</td>\n",
       "      <td>0.390</td>\n",
       "    </tr>\n",
       "    <tr>\n",
       "      <th>3</th>\n",
       "      <td>Bobby Witt Jr.</td>\n",
       "      <td>KCR</td>\n",
       "      <td>0.389</td>\n",
       "    </tr>\n",
       "    <tr>\n",
       "      <th>14</th>\n",
       "      <td>Jurickson Profar</td>\n",
       "      <td>SDP</td>\n",
       "      <td>0.380</td>\n",
       "    </tr>\n",
       "    <tr>\n",
       "      <th>6</th>\n",
       "      <td>Marcell Ozuna</td>\n",
       "      <td>ATL</td>\n",
       "      <td>0.378</td>\n",
       "    </tr>\n",
       "    <tr>\n",
       "      <th>13</th>\n",
       "      <td>Freddie Freeman</td>\n",
       "      <td>LAD</td>\n",
       "      <td>0.378</td>\n",
       "    </tr>\n",
       "    <tr>\n",
       "      <th>10</th>\n",
       "      <td>Bryce Harper</td>\n",
       "      <td>PHI</td>\n",
       "      <td>0.373</td>\n",
       "    </tr>\n",
       "  </tbody>\n",
       "</table>\n",
       "</div>"
      ],
      "text/plain": [
       "                     Name Team    OBP\n",
       "0             Aaron Judge  NYY  0.458\n",
       "2               Juan Soto  NYY  0.419\n",
       "5   Vladimir Guerrero Jr.  TOR  0.396\n",
       "4          Yordan Alvarez  HOU  0.392\n",
       "1           Shohei Ohtani  LAD  0.390\n",
       "3          Bobby Witt Jr.  KCR  0.389\n",
       "14       Jurickson Profar  SDP  0.380\n",
       "6           Marcell Ozuna  ATL  0.378\n",
       "13        Freddie Freeman  LAD  0.378\n",
       "10           Bryce Harper  PHI  0.373"
      ]
     },
     "execution_count": 26,
     "metadata": {},
     "output_type": "execute_result"
    }
   ],
   "source": [
    "batting_df[['Name', 'Team', 'OBP']].sort_values(\n",
    "    by='OBP', ascending=False).head(10)"
   ]
  },
  {
   "cell_type": "markdown",
   "id": "11710f0f-28fc-43d6-8bf3-35305d0c49e5",
   "metadata": {},
   "source": [
    "## 2. Stolen Base Effectiveness Differential \n",
    "Highlights the efficiency of a player's attemped stolen bases. Also, ratio is only calculated when a player attemped 20 more stolen bases in that season.\n",
    "\n",
    "**Formula:**\n",
    "\n",
    "`Stolen Base Effectiveness Differential = (Stolen Bases - Stolen Bases Attemped) / Total Stolen Bases`"
   ]
  },
  {
   "cell_type": "code",
   "execution_count": 3,
   "id": "bd687bc6-a294-4ec5-80a6-2938ef5c3309",
   "metadata": {},
   "outputs": [
    {
     "name": "stdout",
     "output_type": "stream",
     "text": [
      "                 Name Team  SB  CS      SBED\n",
      "52         Oneil Cruz  PIT  22   1  0.913043\n",
      "128     Maikel Garcia  KCR  37   2  0.897436\n",
      "1       Shohei Ohtani  LAD  59   4  0.873016\n",
      "113      Bryson Stott  PHI  32   3  0.828571\n",
      "115      Brice Turang  MIL  50   6  0.785714\n",
      "88      Spencer Steer  CIN  25   3  0.785714\n",
      "126        Zack Gelof  OAK  25   3  0.785714\n",
      "19   Francisco Lindor  NYM  29   4  0.757576\n",
      "124    Andres Gimenez  CLE  30   5  0.714286\n",
      "59      Brenton Doyle  COL  30   5  0.714286\n"
     ]
    }
   ],
   "source": [
    "# Calculate Net_SB_Effectiveness only for players with at least 20 SB\n",
    "batting_df['SBED'] = np.where(\n",
    "    batting_df['SB'] >= 20,\n",
    "    (batting_df['SB'] - batting_df['CS']) / (batting_df['SB'] + batting_df['CS']),\n",
    "    0\n",
    ")\n",
    "\n",
    "# Fill any NaN values (just in case) with 0\n",
    "batting_df['SBED'] = batting_df['SBED'].fillna(0)\n",
    "\n",
    "# Optional: View top performers\n",
    "print(batting_df[['Name', 'Team', 'SB', 'CS', 'SBED']].sort_values(\n",
    "    by='SBED', ascending=False).head(10))"
   ]
  },
  {
   "cell_type": "markdown",
   "id": "f67bd84f-7bac-4907-a1b6-22417d608c31",
   "metadata": {},
   "source": [
    "## 3. ATR - Assist-to-Run Ratio\n",
    "Estimates a player's role in setting up scoring via sacrifices.\n",
    "\n",
    "**Formula:**\n",
    "`ATR = (Sac Flies + Sac Hits) / Plate Appearances`"
   ]
  },
  {
   "cell_type": "code",
   "execution_count": 4,
   "id": "ebe616ad-0ae5-4d55-b210-50298a9467c9",
   "metadata": {},
   "outputs": [],
   "source": [
    "batting_df['ATR'] = (batting_df['SF'] + batting_df['SH']) / batting_df['PA']"
   ]
  },
  {
   "cell_type": "markdown",
   "id": "756ae136-cf03-42c3-bcdc-90b602fdb9b8",
   "metadata": {},
   "source": [
    "## 4. Favorite or Custom Statistics \n",
    "Use your favorite statistic or create a new metrics that may help your team to win the fantasy small ball competition. Here are mine:\n",
    "\n",
    "**Percent of Runs Scored on Home Runs:** Small ball teams typically score a lower percentage of their runs on home runs compared to teams that prioritize power hitting. \n",
    "\n",
    "**Formula:**\n",
    "`R_HR = HR / R`"
   ]
  },
  {
   "cell_type": "code",
   "execution_count": 12,
   "id": "64de73e0-9294-47ca-a83d-a99ab4e8fbf3",
   "metadata": {},
   "outputs": [
    {
     "name": "stdout",
     "output_type": "stream",
     "text": [
      "               Name   Team   R  HR      R_HR\n",
      "116     Sal Frelick    MIL  66   2  0.030303\n",
      "117     Jacob Young    WSN  75   3  0.040000\n",
      "72      Luis Arraez  - - -  83   4  0.048193\n",
      "98     Nico Hoerner    CHC  86   7  0.081395\n",
      "128   Maikel Garcia    KCR  84   7  0.083333\n",
      "115    Brice Turang    MIL  72   7  0.097222\n",
      "118   Anthony Volpe    NYY  90  12  0.133333\n",
      "85     Willi Castro    MIN  89  12  0.134831\n",
      "124  Andres Gimenez    CLE  64   9  0.140625\n",
      "25      Steven Kwan    CLE  83  14  0.168675\n"
     ]
    }
   ],
   "source": [
    "batting_df['R_HR'] = batting_df['HR']/batting_df['R']\n",
    "print(batting_df[['Name', 'Team', 'R', 'HR', 'R_HR']].sort_values(by='R_HR', ascending=True).head(10))"
   ]
  },
  {
   "cell_type": "markdown",
   "id": "621c3afb-0210-4bd7-83a5-1063a1bd2d3e",
   "metadata": {},
   "source": [
    "## 5. Fantasy Team\n",
    "Making data-driven decisions to build a fantasy team of your top 10 players. You do not have to have players at each position; rather, try to identify 10 players that excel the most across as many of your statistics as possible."
   ]
  },
  {
   "cell_type": "code",
   "execution_count": 24,
   "id": "10b4382b-1ee6-4abe-bca6-cf14ed4a398b",
   "metadata": {
    "tags": []
   },
   "outputs": [],
   "source": [
    "batting_df['avg_value'] = (\n",
    "    batting_df['OBP'] + batting_df['SBED'] + \n",
    "    batting_df['ATR'] + (1 - batting_df['R_HR']))/4\n",
    "my_team_list = batting_df.sort_values(\n",
    "    by='avg_value', ascending=False)[:10]['Name'][:10]"
   ]
  },
  {
   "cell_type": "code",
   "execution_count": 25,
   "id": "932c2154-9dd3-446b-b804-881e65c012ae",
   "metadata": {
    "tags": []
   },
   "outputs": [
    {
     "data": {
      "image/png": "[encoded data removed]",
      "text/plain": [
       "<Figure size 640x480 with 1 Axes>"
      ]
     },
     "metadata": {},
     "output_type": "display_data"
    }
   ],
   "source": [
    "comparison_df = batting_df[batting_df['Name'].isin(my_team_list)][\n",
    "    ['Name', 'OBP', 'SBED', 'ATR', 'R_HR', 'avg_value']]\n",
    "\n",
    "comparison_df.set_index('Name').T.plot(\n",
    "    kind='bar', title='Player Stat Comparison')\n",
    "plt.ylabel('Value')\n",
    "plt.tight_layout()\n",
    "plt.show()"
   ]
  },
  {
   "cell_type": "code",
   "execution_count": null,
   "id": "8e69abd2-b735-46ba-933d-2c6bf3f8ed99",
   "metadata": {},
   "outputs": [],
   "source": []
  }
 ],
 "metadata": {
  "kernelspec": {
   "display_name": ".conda-default:Python",
   "language": "python",
   "name": "conda-env-.conda-default-py"
  },
  "language_info": {
   "codemirror_mode": {
    "name": "ipython",
    "version": 3
   },
   "file_extension": ".py",
   "mimetype": "text/x-python",
   "name": "python",
   "nbconvert_exporter": "python",
   "pygments_lexer": "ipython3",
   "version": "3.9.19"
  }
 },
 "nbformat": 4,
 "nbformat_minor": 5
}
